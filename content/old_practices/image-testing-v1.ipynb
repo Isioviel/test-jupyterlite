{
  "metadata": {
    "kernelspec": {
      "name": "python",
      "display_name": "Python (Pyodide)",
      "language": "python"
    },
    "language_info": {
      "codemirror_mode": {
        "name": "python",
        "version": 3
      },
      "file_extension": ".py",
      "mimetype": "text/x-python",
      "name": "python",
      "nbconvert_exporter": "python",
      "pygments_lexer": "ipython3",
      "version": "3.8"
    }
  },
  "nbformat_minor": 4,
  "nbformat": 4,
  "cells": [
    {
      "cell_type": "code",
      "source": "from PIL import Image\nfrom time import time\nimport numpy as np\nimport matplotlib.pyplot as plt\nfrom sklearn.cluster import KMeans\nfrom sklearn.utils import shuffle",
      "metadata": {
        "trusted": true
      },
      "outputs": [],
      "execution_count": 42
    },
    {
      "cell_type": "code",
      "source": "#SO = np.asarray(Image.open(\"so_logo.png\"), dtype=np.float32)\n\nraw_jpg = Image.open(\"Earth.jpg\").convert(\"RGB\")\narray_uint8 = np.array(raw_jpg)\nwidth, height, depth = original_shape = array_uint8.shape\noriginal_shape\nassert depth == 3\nreshaped_array_uint8 = np.reshape(array_uint8, (width * height, depth))\nreshaped_array_float01range = np.array(reshaped_array_uint8, dtype=np.float64) / 255\nearth = reshaped_array_float01range.copy()\n\n#earth = np.asarray(Image.open(\"Earth.jpg\"), dtype=np.int32)\n\n#ROI_1984_nirband4 = np.asarray(Image.open(\"ROI_1984_nirband4.tif\"), dtype=np.float32)\n#ROI_1984_redband3 = np.asarray(Image.open(\"ROI_1984_redband3.tif\"), dtype=np.float32)\n#ROI_2022_nirband5 = np.asarray(Image.open(\"ROI_2022_nirband5.tif\"), dtype=np.float32)\n#ROI_2022_redband4 = np.asarray(Image.open(\"ROI_2022_redband4.tif\"), dtype=np.float32)",
      "metadata": {
        "trusted": true
      },
      "outputs": [],
      "execution_count": 33
    },
    {
      "cell_type": "code",
      "source": "earth.shape",
      "metadata": {
        "trusted": true
      },
      "outputs": [
        {
          "execution_count": 34,
          "output_type": "execute_result",
          "data": {
            "text/plain": "(1111504, 3)"
          },
          "metadata": {}
        }
      ],
      "execution_count": 34
    },
    {
      "cell_type": "code",
      "source": "earth.dtype",
      "metadata": {
        "trusted": true
      },
      "outputs": [
        {
          "execution_count": 36,
          "output_type": "execute_result",
          "data": {
            "text/plain": "dtype('float64')"
          },
          "metadata": {}
        }
      ],
      "execution_count": 36
    },
    {
      "cell_type": "code",
      "source": "plt.matshow(earth, cmap=\"Reds_r\")",
      "metadata": {
        "trusted": true
      },
      "outputs": [
        {
          "execution_count": 44,
          "output_type": "execute_result",
          "data": {
            "text/plain": "<matplotlib.image.AxesImage at 0x150d2660>"
          },
          "metadata": {}
        },
        {
          "output_type": "display_data",
          "data": {
            "text/plain": "<Figure size 400x1600 with 1 Axes>",
            "image/png": "[encoded data removed]"
          },
          "metadata": {}
        }
      ],
      "execution_count": 44
    },
    {
      "cell_type": "code",
      "source": "",
      "metadata": {
        "trusted": true
      },
      "outputs": [],
      "execution_count": null
    }
  ]
}