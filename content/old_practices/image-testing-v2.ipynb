{
  "metadata": {
    "kernelspec": {
      "name": "python",
      "display_name": "Python (Pyodide)",
      "language": "python"
    },
    "language_info": {
      "codemirror_mode": {
        "name": "python",
        "version": 3
      },
      "file_extension": ".py",
      "mimetype": "text/x-python",
      "name": "python",
      "nbconvert_exporter": "python",
      "pygments_lexer": "ipython3",
      "version": "3.8"
    }
  },
  "nbformat_minor": 4,
  "nbformat": 4,
  "cells": [
    {
      "cell_type": "code",
      "source": "from PIL import Image\nimport matplotlib.pyplot as plt\nimport numpy as np",
      "metadata": {
        "trusted": true
      },
      "outputs": [],
      "execution_count": 1
    },
    {
      "cell_type": "code",
      "source": "def process(image):\n    raw_jpg = Image.open(image).convert(\"RGB\")\n    array_uint8 = np.array(raw_jpg)\n    width, height, depth = original_shape = array_uint8.shape\n    print(\"original shape = \", original_shape)\n    assert depth == 3\n    reshaped_array_uint8 = np.reshape(array_uint8, (width * height, depth))\n    reshaped_array_float01range = np.array(reshaped_array_uint8, dtype=np.float64) / 255\n    \n    original_n_colours = np.unique(reshaped_array_uint8, axis=0).shape[0]\n    print(\"original colours = \", original_n_colours)\n    \n    return reshaped_array_float01range.copy()",
      "metadata": {
        "trusted": true
      },
      "outputs": [],
      "execution_count": 2
    },
    {
      "cell_type": "code",
      "source": "IR_now = np.asarray(Image.open(\"modern-ir.png\"), dtype=np.float32)\n\nprint(repr(IR_now))\n#IR_now.shape\n#IR_now.dtype\n\n#plt.matshow(IR_now, cmap=\"Greys_r\")\n#plt.imshow(IR_now, cmap=\"Greys_r\")",
      "metadata": {
        "trusted": true
      },
      "outputs": [
        {
          "name": "stdout",
          "text": "array([[[216.,  55.,  57., 255.],\n        [216.,  55.,  57., 255.],\n        [215.,  55.,  57., 255.],\n        ...,\n        [173., 101.,  76., 255.],\n        [174., 101.,  76., 255.],\n        [175., 101.,  76., 255.]],\n\n       [[218.,  55.,  58., 255.],\n        [218.,  55.,  58., 255.],\n        [218.,  55.,  58., 255.],\n        ...,\n        [175., 101.,  76., 255.],\n        [176., 101.,  77., 255.],\n        [175.,  99.,  76., 255.]],\n\n       [[218.,  53.,  57., 255.],\n        [218.,  53.,  57., 255.],\n        [217.,  54.,  57., 255.],\n        ...,\n        [176.,  98.,  75., 255.],\n        [177.,  98.,  75., 255.],\n        [179.,  97.,  76., 255.]],\n\n       ...,\n\n       [[178.,  66.,  64., 255.],\n        [179.,  65.,  64., 255.],\n        [178.,  65.,  63., 255.],\n        ...,\n        [186.,  72.,  64., 255.],\n        [186.,  71.,  64., 255.],\n        [187.,  72.,  65., 255.]],\n\n       [[179.,  68.,  66., 255.],\n        [180.,  66.,  65., 255.],\n        [178.,  66.,  64., 255.],\n        ...,\n        [188.,  71.,  64., 255.],\n        [188.,  71.,  64., 255.],\n        [188.,  71.,  64., 255.]],\n\n       [[177.,  70.,  64., 255.],\n        [178.,  69.,  64., 255.],\n        [177.,  68.,  65., 255.],\n        ...,\n        [190.,  71.,  63., 255.],\n        [190.,  72.,  64., 255.],\n        [193.,  75.,  67., 255.]]], dtype=float32)\n",
          "output_type": "stream"
        }
      ],
      "execution_count": 23
    },
    {
      "cell_type": "code",
      "source": "IR_now = IR_now[:1]",
      "metadata": {
        "trusted": true
      },
      "outputs": [],
      "execution_count": 19
    },
    {
      "cell_type": "code",
      "source": "IR_now.shape",
      "metadata": {
        "trusted": true
      },
      "outputs": [
        {
          "execution_count": 20,
          "output_type": "execute_result",
          "data": {
            "text/plain": "(1, 658, 4)"
          },
          "metadata": {}
        }
      ],
      "execution_count": 20
    },
    {
      "cell_type": "code",
      "source": "",
      "metadata": {
        "trusted": true
      },
      "outputs": [],
      "execution_count": null
    }
  ]
}